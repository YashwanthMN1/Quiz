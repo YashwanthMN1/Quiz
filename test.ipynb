{
 "cells": [
  {
   "cell_type": "code",
   "execution_count": 1,
   "metadata": {},
   "outputs": [],
   "source": [
    "import quiz\n",
    "yash = quiz.master()"
   ]
  },
  {
   "cell_type": "code",
   "execution_count": 5,
   "metadata": {},
   "outputs": [],
   "source": [
    "yash.add_questions_to_easy(1, 'prime-minister of india', 'rahul', 'sonia', 'modi', 'amitshah','modi')\n",
    "yash.add_questions_to_easy(2, 'captain of indian cricket team','virat', 'rohit',  'dhoni', 'sehvag','virat')\n",
    "yash.add_questions_to_easy(3,\"Ctrl, Shift and Alt are called .......... keys\",\"modifier\",\"function\",\"alphanumeric\",\"adjustment\",\"modifier\")\n",
    "yash.add_questions_to_easy(4,\"The purest form of iron is \",\"wrought iron\",\"steel\",\"pig iron\",\"nickel steel\",\"wrought iron\")\n",
    "yash.add_questions_to_easy(5,\"Fathometer is used to measure\",\"Earthquakes\",\"Rainfall\",\"Ocean depth\",\"Sound intensity\",\"Ocean depth\")"
   ]
  },
  {
   "cell_type": "code",
   "execution_count": 6,
   "metadata": {},
   "outputs": [],
   "source": [
    "yash.add_questions_to_medium(1,\"The working principle of a washing machine is\",\"osmosis\",\"diffusion\",\"centrifugation\",\"dialysis\",\"centrifugation\")\n",
    "yash.add_questions_to_medium(2,\"MS-Word is an example of\",\"operating system\",\"processing device\",\"Application software\",\"input device\",\"Application software\")\n",
    "yash.add_questions_to_medium(3,\"The staple food of the Vedic Aryan was\",\"Barley\",\"Rice\",\"Milk\",\"fruits\",\"Milk\")\n",
    "yash.add_questions_to_medium(4,\"Upanishads are books on\",\"Philosophy\",\"Religion\",\"Law\",\"Yoga\",\"Philosophy\")\n",
    "yash.add_questions_to_medium(5,\"Nuclear sizes are expressed in a unit named\",\"Angstrom\",\"Fermi\",\"Newton\",\"Tesla\",\"Fermi\")"
   ]
  },
  {
   "cell_type": "code",
   "execution_count": 7,
   "metadata": {},
   "outputs": [],
   "source": [
    "yash.add_questions_to_hard(1,\"Which river of India is called Vridha Ganga?\",\"Krishna\",\"Godavari\",\"Kaveri\",\"Narmada\",\"Godavari\")\n",
    "yash.add_questions_to_hard(2,\"The Saka Era was founded by \",\"Kadphises\",\"Kanishka\",\"Alexander\",\"Menander\",\"Kanishka\")\n",
    "yash.add_questions_to_hard(3,\"Fastest Shorthand Writer was\",\"G. D. Bist\",\"J.M. Tagore\",\"Khudada Khan\",\"J.R.D. Tata\",\"G. D. Bist\")\n",
    "yash.add_questions_to_hard(4,\"Trans- Himalayan river?\",\"Indus\",\"Ravi\",\"Yamuna\",\"Ganga\",\"Indus\")\n",
    "yash.add_questions_to_hard(5,\"Who composed the Gayatri Mantra\",\"Vishvamitra\",\"Indra\",\"Vasishtha\",\"Parikshit\",\"Vishvamitra\")"
   ]
  },
  {
   "cell_type": "code",
   "execution_count": 9,
   "metadata": {},
   "outputs": [],
   "source": [
    "abhi = quiz.user()"
   ]
  },
  {
   "cell_type": "code",
   "execution_count": 11,
   "metadata": {},
   "outputs": [],
   "source": [
    "abhi.take_quiz('ABHI')"
   ]
  },
  {
   "cell_type": "code",
   "execution_count": null,
   "metadata": {},
   "outputs": [],
   "source": []
  },
  {
   "cell_type": "code",
   "execution_count": null,
   "metadata": {},
   "outputs": [],
   "source": []
  },
  {
   "cell_type": "code",
   "execution_count": 3,
   "metadata": {},
   "outputs": [],
   "source": [
    "yash.remove_quetion('easy',1)"
   ]
  }
 ],
 "metadata": {
  "kernelspec": {
   "display_name": "Python 3",
   "language": "python",
   "name": "python3"
  },
  "language_info": {
   "codemirror_mode": {
    "name": "ipython",
    "version": 3
   },
   "file_extension": ".py",
   "mimetype": "text/x-python",
   "name": "python",
   "nbconvert_exporter": "python",
   "pygments_lexer": "ipython3",
   "version": "3.9.0"
  }
 },
 "nbformat": 4,
 "nbformat_minor": 4
}
